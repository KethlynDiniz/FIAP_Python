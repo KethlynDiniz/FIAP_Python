{
  "nbformat": 4,
  "nbformat_minor": 0,
  "metadata": {
    "colab": {
      "name": "FIAP.ipynb",
      "provenance": [],
      "authorship_tag": "ABX9TyP2Ae+X6u38pJudyZCPbCFr",
      "include_colab_link": true
    },
    "kernelspec": {
      "name": "python3",
      "display_name": "Python 3"
    },
    "language_info": {
      "name": "python"
    }
  },
  "cells": [
    {
      "cell_type": "markdown",
      "metadata": {
        "id": "view-in-github",
        "colab_type": "text"
      },
      "source": [
        "<a href=\"https://colab.research.google.com/github/KethlynDiniz/FIAP_Python/blob/main/FIAP.ipynb\" target=\"_parent\"><img src=\"https://colab.research.google.com/assets/colab-badge.svg\" alt=\"Open In Colab\"/></a>"
      ]
    },
    {
      "cell_type": "code",
      "execution_count": null,
      "metadata": {
        "id": "2qcUJDwnb8kB"
      },
      "outputs": [],
      "source": [
        "import pandas as pd"
      ]
    },
    {
      "cell_type": "code",
      "source": [
        "print(\"Hello Word\")"
      ],
      "metadata": {
        "colab": {
          "base_uri": "https://localhost:8080/"
        },
        "id": "AxtrCy7RcOMZ",
        "outputId": "34b758fa-c520-4920-fbb3-26d5b86984cf"
      },
      "execution_count": null,
      "outputs": [
        {
          "output_type": "stream",
          "name": "stdout",
          "text": [
            "Hello Word\n"
          ]
        }
      ]
    },
    {
      "cell_type": "markdown",
      "source": [
        "##Mostrar o módulo do número adicionado"
      ],
      "metadata": {
        "id": "8rQPgT2yd6Mu"
      }
    },
    {
      "cell_type": "code",
      "source": [
        "# Solicita um número digitado pelo usuário\n",
        "n = int(input(\"Digite um número:\"))\n",
        "#Comando de decisão: Verifica se o número é negativo\n",
        "if n < 0:\n",
        "    n = n * (-1)\n",
        "# Exibe o número positivo\n",
        "\n",
        "print(\"Módulo: \",n)"
      ],
      "metadata": {
        "colab": {
          "base_uri": "https://localhost:8080/"
        },
        "id": "g_nEn03rcQ_f",
        "outputId": "4f1ba9ae-af75-4bf2-d1c0-76cae991bb7e"
      },
      "execution_count": null,
      "outputs": [
        {
          "output_type": "stream",
          "name": "stdout",
          "text": [
            "Digite um número:-45\n",
            "Módulo:  45\n"
          ]
        }
      ]
    },
    {
      "cell_type": "markdown",
      "source": [
        "##Identificar se a pessoa é maior de Idade."
      ],
      "metadata": {
        "id": "fDZlYrf5d-mW"
      }
    },
    {
      "cell_type": "code",
      "source": [
        "# digita a idade \n",
        "idade = input(\"Digite sua idade: \")\n",
        "idade = int(idade)\n",
        "\n",
        "# apresenta se é maior ou menor de 18 anos\n",
        "if idade >= 18:\n",
        "  print(\"Maior de idade\")\n",
        "else: \n",
        "    print(\"Menor de idade\") "
      ],
      "metadata": {
        "colab": {
          "base_uri": "https://localhost:8080/"
        },
        "id": "4HWoSRxxcu9C",
        "outputId": "b0ae00f1-5caf-414b-9a85-85af0f2a62c6"
      },
      "execution_count": null,
      "outputs": [
        {
          "output_type": "stream",
          "name": "stdout",
          "text": [
            "Digite sua idade: 15\n",
            "Menor de idade\n"
          ]
        }
      ]
    },
    {
      "cell_type": "markdown",
      "source": [
        "##Mostrar dia da semana segundo o número digitado"
      ],
      "metadata": {
        "id": "YlNDJ5kWicXT"
      }
    },
    {
      "cell_type": "code",
      "source": [
        "# Pede a digitação do dia da semana\n",
        "n = int(input(\"Digite um número: \"))\n",
        "\n",
        "# Verifica se o número atende a condição e exibe mensagem\n",
        "if n == 1:\n",
        "    print(\"Domingo\")\n",
        "elif n == 2:\n",
        "    print(\"Segunda-feira\")\n",
        "elif n == 3:\n",
        "    print(\"Terça-feira\")\n",
        "elif n == 4:\n",
        "    print(\"Quarta-feira\")\n",
        "elif n == 5:\n",
        "    print(\"Quinta-feira\")\n",
        "elif n == 6:\n",
        "    print(\"Sexta-feira\")\n",
        "elif n == 7:\n",
        "    print(\"Sábado\")\n",
        "else:\n",
        "    print(\"Número inválido\")"
      ],
      "metadata": {
        "colab": {
          "base_uri": "https://localhost:8080/"
        },
        "id": "aPYg41RueaQ9",
        "outputId": "0498f0ea-e6c4-4c5b-983e-107f05f951ee"
      },
      "execution_count": null,
      "outputs": [
        {
          "output_type": "stream",
          "name": "stdout",
          "text": [
            "Digite um número: 5\n",
            "Quinta-feira\n"
          ]
        }
      ]
    },
    {
      "cell_type": "markdown",
      "source": [
        "## ✴ Dado 2 números inteiros e uma operação aritmética desejada, calcule a resposta adequada: Utilize os símbolos a seguir para ler qual a operação escolhida:\n",
        " (+) Soma\n",
        "\n",
        " (-) Subtração  \n",
        "\n",
        " (*) Multiplicação \n",
        "\n",
        " (/) Divisão"
      ],
      "metadata": {
        "id": "LGtQcmYPkmA-"
      }
    },
    {
      "cell_type": "code",
      "source": [
        "numero1 = float(input(\"Digite um número: \"))\n",
        "numero2 = float(input(\"Digite um número: \"))\n",
        "operador = str(input(\"Operação desejada: \"))\n",
        "\n",
        "if operador == '+':\n",
        "  resultado = numero1 + numero2\n",
        "  print(\"A Soma é: \", resultado)\n",
        "elif operador == '-':\n",
        "  resultado = numero1 - numero2\n",
        "  print(\"A Subtração é: \", resultado)\n",
        "elif operador == '*':\n",
        "  resultado = numero1 * numero2\n",
        "  print(\"A Multiplicação é: \", resultado)\n",
        "elif operador == '/':\n",
        "  if(numero2 == 0):\n",
        "    print(\"Não existi divisão por zero\")\n",
        "  resultado = numero1 / numero2\n",
        "  print(\"A Divisão é: \", resultado)\n",
        "\n",
        "else:\n",
        "  print(\"Operação inválida\")"
      ],
      "metadata": {
        "colab": {
          "base_uri": "https://localhost:8080/"
        },
        "id": "NXG1BMZ2fp6z",
        "outputId": "77a6f573-08df-45e1-9455-f619d123b15c"
      },
      "execution_count": null,
      "outputs": [
        {
          "output_type": "stream",
          "name": "stdout",
          "text": [
            "Digite um número: 5\n",
            "Digite um número: 4\n",
            "Operação desejada: /\n",
            "A Divisão é:  1.25\n"
          ]
        }
      ]
    },
    {
      "cell_type": "markdown",
      "source": [
        "## ✴ Dada a parte numérica da placa de um automóvel, fazer um algoritmo que exiba o dia do rodízio. Considere a regra de São Paulo. Para veículos com final da placa:\n",
        "\n",
        "- 1 e 2 - rodízio é segunda-feira\n",
        "- 3 e 4 - rodízio é terça-feira\n",
        "- 5 e 6 - rodízio é quarta-feira\n",
        "- 7 e 8 - rodízio é quinta-feira\n",
        "- 9 e 0 - rodízio é sexta-feira"
      ],
      "metadata": {
        "id": "r1YurwG_qMar"
      }
    },
    {
      "cell_type": "code",
      "source": [
        "# Solicita o número da placa\n",
        "numeroPlaca=int(input(\"Digite o número da placa do veículo:\"))\n",
        "finalPlaca = numeroPlaca % 10\n",
        "if finalPlaca == 1 or finalPlaca==2:\n",
        "     print(\"Segunda-feira\");\n",
        "elif finalPlaca == 3 or finalPlaca==3:\n",
        "     print(\"Terça-feira\");\n",
        "elif finalPlaca == 5 or finalPlaca==6:\n",
        "     print(\"Quarta-feira\");\n",
        "elif finalPlaca == 7 or finalPlaca==8:\n",
        "     print(\"Quinta-feira\");\n",
        "else:\n",
        "    print(\"Sexta-feira\");"
      ],
      "metadata": {
        "colab": {
          "base_uri": "https://localhost:8080/"
        },
        "id": "QkUumEWlmJJz",
        "outputId": "26db2d2b-e890-48d7-845f-e8d4c0b86dad"
      },
      "execution_count": null,
      "outputs": [
        {
          "output_type": "stream",
          "name": "stdout",
          "text": [
            "Digite o número da placa do veículo:4568\n",
            "Quinta-feira\n"
          ]
        }
      ]
    },
    {
      "cell_type": "code",
      "source": [
        "numeroPlaca=int(input(\"Digite o número da placa do veículo:\"))\n",
        "finalPlaca = numeroPlaca % 10\n",
        "print(finalPlaca)"
      ],
      "metadata": {
        "colab": {
          "base_uri": "https://localhost:8080/"
        },
        "id": "njZ6ysobrJlV",
        "outputId": "8f6447b1-d906-4908-d794-ffa26aa60e23"
      },
      "execution_count": null,
      "outputs": [
        {
          "output_type": "stream",
          "name": "stdout",
          "text": [
            "Digite o número da placa do veículo:45686878456\n",
            "6\n"
          ]
        }
      ]
    },
    {
      "cell_type": "markdown",
      "source": [
        "## ✴ Dado um número pelo usuário, informar se ele é positivo, negativo ou nulo."
      ],
      "metadata": {
        "id": "2ksoPJArsPWA"
      }
    },
    {
      "cell_type": "code",
      "source": [
        "n = int(input(\"Digite um número: \"))\n",
        "if n > 0:\n",
        "    print(\"Positivo\")\n",
        "elif n < 0:\n",
        "        print(\"Negativo\")\n",
        "else:\n",
        "        print(\"Nulo\")"
      ],
      "metadata": {
        "colab": {
          "base_uri": "https://localhost:8080/"
        },
        "id": "G5belG8YrNF-",
        "outputId": "a007674e-11fe-4937-bb0a-3a630bc1f064"
      },
      "execution_count": null,
      "outputs": [
        {
          "output_type": "stream",
          "name": "stdout",
          "text": [
            "Digite um número: 0\n",
            "Nulo\n"
          ]
        }
      ]
    }
  ]
}
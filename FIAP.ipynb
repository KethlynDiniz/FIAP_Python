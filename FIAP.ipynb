{
  "nbformat": 4,
  "nbformat_minor": 0,
  "metadata": {
    "colab": {
      "name": "FIAP",
      "provenance": [],
      "authorship_tag": "ABX9TyN2y6BCiuWQctTNMEtNyf26"
    },
    "kernelspec": {
      "name": "python3",
      "display_name": "Python 3"
    },
    "language_info": {
      "name": "python"
    }
  },
  "cells": [
    {
      "cell_type": "code",
      "execution_count": null,
      "metadata": {
        "id": "2qcUJDwnb8kB"
      },
      "outputs": [],
      "source": [
        "import pandas as pd"
      ]
    },
    {
      "cell_type": "code",
      "source": [
        "print(\"Hello Word\")"
      ],
      "metadata": {
        "colab": {
          "base_uri": "https://localhost:8080/"
        },
        "id": "AxtrCy7RcOMZ",
        "outputId": "34b758fa-c520-4920-fbb3-26d5b86984cf"
      },
      "execution_count": null,
      "outputs": [
        {
          "output_type": "stream",
          "name": "stdout",
          "text": [
            "Hello Word\n"
          ]
        }
      ]
    },
    {
      "cell_type": "markdown",
      "source": [
        "##Mostrar o módulo do número adicionado"
      ],
      "metadata": {
        "id": "8rQPgT2yd6Mu"
      }
    },
    {
      "cell_type": "code",
      "source": [
        "# Solicita um número digitado pelo usuário\n",
        "n = int(input(\"Digite um número:\"))\n",
        "#Comando de decisão: Verifica se o número é negativo\n",
        "if n < 0:\n",
        "    n = n * (-1)\n",
        "# Exibe o número positivo\n",
        "\n",
        "print(\"Módulo: \",n)"
      ],
      "metadata": {
        "colab": {
          "base_uri": "https://localhost:8080/"
        },
        "id": "g_nEn03rcQ_f",
        "outputId": "4f1ba9ae-af75-4bf2-d1c0-76cae991bb7e"
      },
      "execution_count": null,
      "outputs": [
        {
          "output_type": "stream",
          "name": "stdout",
          "text": [
            "Digite um número:-45\n",
            "Módulo:  45\n"
          ]
        }
      ]
    },
    {
      "cell_type": "markdown",
      "source": [
        "##Identificar se a pessoa é maior de Idade."
      ],
      "metadata": {
        "id": "fDZlYrf5d-mW"
      }
    },
    {
      "cell_type": "code",
      "source": [
        "# digita a idade \n",
        "idade = input(\"Digite sua idade: \")\n",
        "idade = int(idade)\n",
        "\n",
        "# apresenta se é maior ou menor de 18 anos\n",
        "if idade >= 18:\n",
        "  print(\"Maior de idade\")\n",
        "else: \n",
        "    print(\"Menor de idade\") "
      ],
      "metadata": {
        "colab": {
          "base_uri": "https://localhost:8080/"
        },
        "id": "4HWoSRxxcu9C",
        "outputId": "b0ae00f1-5caf-414b-9a85-85af0f2a62c6"
      },
      "execution_count": null,
      "outputs": [
        {
          "output_type": "stream",
          "name": "stdout",
          "text": [
            "Digite sua idade: 15\n",
            "Menor de idade\n"
          ]
        }
      ]
    },
    {
      "cell_type": "markdown",
      "source": [
        "##Mostrar dia da semana segundo o número digitado"
      ],
      "metadata": {
        "id": "YlNDJ5kWicXT"
      }
    },
    {
      "cell_type": "code",
      "source": [
        "# Pede a digitação do dia da semana\n",
        "n = int(input(\"Digite um número: \"))\n",
        "\n",
        "# Verifica se o número atende a condição e exibe mensagem\n",
        "if n == 1:\n",
        "    print(\"Domingo\")\n",
        "elif n == 2:\n",
        "    print(\"Segunda-feira\")\n",
        "elif n == 3:\n",
        "    print(\"Terça-feira\")\n",
        "elif n == 4:\n",
        "    print(\"Quarta-feira\")\n",
        "elif n == 5:\n",
        "    print(\"Quinta-feira\")\n",
        "elif n == 6:\n",
        "    print(\"Sexta-feira\")\n",
        "elif n == 7:\n",
        "    print(\"Sábado\")\n",
        "else:\n",
        "    print(\"Número inválido\")"
      ],
      "metadata": {
        "colab": {
          "base_uri": "https://localhost:8080/"
        },
        "id": "aPYg41RueaQ9",
        "outputId": "0498f0ea-e6c4-4c5b-983e-107f05f951ee"
      },
      "execution_count": null,
      "outputs": [
        {
          "output_type": "stream",
          "name": "stdout",
          "text": [
            "Digite um número: 5\n",
            "Quinta-feira\n"
          ]
        }
      ]
    },
    {
      "cell_type": "markdown",
      "source": [
        "## ✴ Dado 2 números inteiros e uma operação aritmética desejada, calcule a resposta adequada: Utilize os símbolos a seguir para ler qual a operação escolhida:\n",
        " (+) Soma\n",
        "\n",
        " (-) Subtração  \n",
        "\n",
        " (*) Multiplicação \n",
        "\n",
        " (/) Divisão"
      ],
      "metadata": {
        "id": "LGtQcmYPkmA-"
      }
    },
    {
      "cell_type": "code",
      "source": [
        "numero1 = float(input(\"Digite um número: \"))\n",
        "numero2 = float(input(\"Digite um número: \"))\n",
        "operador = str(input(\"Operação desejada: \"))\n",
        "\n",
        "if operador == '+':\n",
        "  resultado = numero1 + numero2\n",
        "  print(\"A Soma é: \", resultado)\n",
        "elif operador == '-':\n",
        "  resultado = numero1 - numero2\n",
        "  print(\"A Subtração é: \", resultado)\n",
        "elif operador == '*':\n",
        "  resultado = numero1 * numero2\n",
        "  print(\"A Multiplicação é: \", resultado)\n",
        "elif operador == '/':\n",
        "  if(numero2 == 0):\n",
        "    print(\"Não existi divisão por zero\")\n",
        "  resultado = numero1 / numero2\n",
        "  print(\"A Divisão é: \", resultado)\n",
        "\n",
        "else:\n",
        "  print(\"Operação inválida\")"
      ],
      "metadata": {
        "colab": {
          "base_uri": "https://localhost:8080/"
        },
        "id": "NXG1BMZ2fp6z",
        "outputId": "77a6f573-08df-45e1-9455-f619d123b15c"
      },
      "execution_count": null,
      "outputs": [
        {
          "output_type": "stream",
          "name": "stdout",
          "text": [
            "Digite um número: 5\n",
            "Digite um número: 4\n",
            "Operação desejada: /\n",
            "A Divisão é:  1.25\n"
          ]
        }
      ]
    },
    {
      "cell_type": "markdown",
      "source": [
        "## ✴ Dada a parte numérica da placa de um automóvel, fazer um algoritmo que exiba o dia do rodízio. Considere a regra de São Paulo. Para veículos com final da placa:\n",
        "\n",
        "- 1 e 2 - rodízio é segunda-feira\n",
        "- 3 e 4 - rodízio é terça-feira\n",
        "- 5 e 6 - rodízio é quarta-feira\n",
        "- 7 e 8 - rodízio é quinta-feira\n",
        "- 9 e 0 - rodízio é sexta-feira"
      ],
      "metadata": {
        "id": "r1YurwG_qMar"
      }
    },
    {
      "cell_type": "code",
      "source": [
        "# Solicita o número da placa\n",
        "numeroPlaca=int(input(\"Digite o número da placa do veículo:\"))\n",
        "finalPlaca = numeroPlaca % 10\n",
        "if finalPlaca == 1 or finalPlaca==2:\n",
        "     print(\"Segunda-feira\");\n",
        "elif finalPlaca == 3 or finalPlaca==3:\n",
        "     print(\"Terça-feira\");\n",
        "elif finalPlaca == 5 or finalPlaca==6:\n",
        "     print(\"Quarta-feira\");\n",
        "elif finalPlaca == 7 or finalPlaca==8:\n",
        "     print(\"Quinta-feira\");\n",
        "else:\n",
        "    print(\"Sexta-feira\");"
      ],
      "metadata": {
        "colab": {
          "base_uri": "https://localhost:8080/"
        },
        "id": "QkUumEWlmJJz",
        "outputId": "26db2d2b-e890-48d7-845f-e8d4c0b86dad"
      },
      "execution_count": null,
      "outputs": [
        {
          "output_type": "stream",
          "name": "stdout",
          "text": [
            "Digite o número da placa do veículo:4568\n",
            "Quinta-feira\n"
          ]
        }
      ]
    },
    {
      "cell_type": "code",
      "source": [
        "numeroPlaca=int(input(\"Digite o número da placa do veículo:\"))\n",
        "finalPlaca = numeroPlaca % 10\n",
        "print(finalPlaca)"
      ],
      "metadata": {
        "colab": {
          "base_uri": "https://localhost:8080/"
        },
        "id": "njZ6ysobrJlV",
        "outputId": "8f6447b1-d906-4908-d794-ffa26aa60e23"
      },
      "execution_count": null,
      "outputs": [
        {
          "output_type": "stream",
          "name": "stdout",
          "text": [
            "Digite o número da placa do veículo:45686878456\n",
            "6\n"
          ]
        }
      ]
    },
    {
      "cell_type": "markdown",
      "source": [
        "## ✴ Dado um número pelo usuário, informar se ele é positivo, negativo ou nulo."
      ],
      "metadata": {
        "id": "2ksoPJArsPWA"
      }
    },
    {
      "cell_type": "code",
      "source": [
        "n = int(input(\"Digite um número: \"))\n",
        "if n > 0:\n",
        "    print(\"Positivo\")\n",
        "elif n < 0:\n",
        "        print(\"Negativo\")\n",
        "else:\n",
        "        print(\"Nulo\")"
      ],
      "metadata": {
        "colab": {
          "base_uri": "https://localhost:8080/"
        },
        "id": "G5belG8YrNF-",
        "outputId": "a007674e-11fe-4937-bb0a-3a630bc1f064"
      },
      "execution_count": null,
      "outputs": [
        {
          "output_type": "stream",
          "name": "stdout",
          "text": [
            "Digite um número: 0\n",
            "Nulo\n"
          ]
        }
      ]
    },
    {
      "cell_type": "markdown",
      "source": [
        "## ✴Dados 3 números, exiba o maior"
      ],
      "metadata": {
        "id": "kxuZHb2B61iD"
      }
    },
    {
      "cell_type": "code",
      "source": [
        "print (\"Digite 3 números: \")\n",
        "n1 = int(input(\"Digite o primeiro: \"))\n",
        "n2 = int(input(\"Digite o segundo: \"))\n",
        "n3 = int(input(\"Digite o terceiro: \"))\n",
        "maior = n1\n",
        "if n2 > maior:\n",
        "    maior = n2\n",
        "if n3 > maior:\n",
        "    maior = n3\n",
        "print (\"Maior número: \", maior)"
      ],
      "metadata": {
        "colab": {
          "base_uri": "https://localhost:8080/"
        },
        "id": "1iY6xCrr6-fG",
        "outputId": "29c9d60b-9a74-45e1-dff1-2acc48aff2e5"
      },
      "execution_count": 30,
      "outputs": [
        {
          "output_type": "stream",
          "name": "stdout",
          "text": [
            "Digite 3 números: \n",
            "Digite o primeiro: 4\n",
            "Digite o segundo: 5\n",
            "Digite o terceiro: 50\n",
            "Maior número:  50\n"
          ]
        }
      ]
    },
    {
      "cell_type": "markdown",
      "source": [
        "## ✴ Faça um algoritmo que leia e some diversos números dados pelo usuário. Quando o usuário digitar 0 (zero), finaliza o algoritmo. No final, exibir a soma resultante"
      ],
      "metadata": {
        "id": "FYj-x8j5C1fF"
      }
    },
    {
      "cell_type": "code",
      "source": [
        "print(\"Digite 0 para finalizar\")\n",
        "# zera a variável que acumula a soma\n",
        "soma = 0\n",
        "# para entrar no laço a primeira vez\n",
        "num = 1\n",
        "\n",
        "# início do laço Enquanto-Faça\n",
        "while num != 0:\n",
        "    # Bloco de repetição\n",
        "    num = float(input(\"Digite um número: \"))\n",
        "    soma = soma + num\n",
        "\n",
        "# fluxo depois do final do laço: Exibir o valor da somatória\n",
        "print(\"Somatoria = \", soma)"
      ],
      "metadata": {
        "colab": {
          "base_uri": "https://localhost:8080/"
        },
        "id": "GRBfCWgj7P9-",
        "outputId": "dce5059c-5e1c-4c19-bf61-5717b1698990"
      },
      "execution_count": 31,
      "outputs": [
        {
          "output_type": "stream",
          "name": "stdout",
          "text": [
            "Digite 0 para finalizar\n",
            "Digite um número: 5\n",
            "Digite um número: 4\n",
            "Digite um número: 5\n",
            "Digite um número: 8\n",
            "Digite um número: 4\n",
            "Digite um número: 8\n",
            "Digite um número: 0\n",
            "Somatoria =  34.0\n"
          ]
        }
      ]
    },
    {
      "cell_type": "markdown",
      "source": [
        "## Nota dos Alunos\n",
        "Em uma instituição de ensino, um aluno é submetido a três avaliações em um semestre. A média semestral é calculada por meio de uma média simples das duas maiores avaliações obtidas entre três avaliações.\n",
        "\n",
        "Caso essa média semestral resulte em uma nota inferior a 4, o aluno foi reprovado sem outra oportunidade.\n",
        "\n",
        "Caso a média semestral for maior ou igual a 7, o aluno foi aprovado de forma direta.\n",
        "\n",
        "Caso a média esteja entre 4 e 6.9, o aluno está de exame, a média final é uma média simples da média semestral com a nota da avaliação obtida no exame. Caso a média final seja inferior a 5, o aluno foi Reprovado em Exame, senão ele foi aprovado.\n",
        "\n",
        "Requisitos:\n",
        "\n",
        "- O algoritmo efetua todo esse calculo com apenas um aluno.\n",
        "- Consistir para que as notas estejam entre 0 e 10.\n",
        "- As mensagens informativas devem ser claras em relação ao problema ou a situação do aluno\n",
        "- Quando necessário, exibir as médias calculadas para simples conferencia."
      ],
      "metadata": {
        "id": "1yEgTuFuR4tL"
      }
    },
    {
      "cell_type": "code",
      "source": [
        "# Leitura da Nota\n",
        "nota1 = float(input(\"Nota 1: \"))\n",
        "# Verificação se a nota é válida\n",
        "if nota1 >=0 and nota1  <= 10:\n",
        "    nota2 = float(input(\"Nota 2: \"))\n",
        "    if nota2 >= 0 and nota2 <= 10:\n",
        "        nota3 = float(input(\"Nota 3: \"))\n",
        "        if nota3 >= 0 and nota3 <= 10:\n",
        "            # Verificação da menor entre 3 notas\n",
        "            menor_nota = nota1\n",
        "            if nota2 < menor_nota:\n",
        "                menor_nota = nota2\n",
        "            if nota3 < menor_nota:\n",
        "                menor_nota = nota3\n",
        "            # Cálculo da media semestral com as duas notas maiores\n",
        "            media_semestral = (nota1 + nota2 + nota3 - menor_nota) / 2\n",
        "            print(f\"A sua Média Semestral é {media_semestral:.1f}\")\n",
        "            # Verificação do Status de aprovação ou não do aluno\n",
        "            if media_semestral < 4:\n",
        "                print(\"Você está Reprovado direto.\")\n",
        "            elif media_semestral >= 7:\n",
        "                print(\"Voce está Aprovado direto.\")\n",
        "            else:\n",
        "                # Caso o aluno tenha ficado em exame\n",
        "                print(\"VOCÊ FICOU EM EXAME!\")\n",
        "                nota_exame = float(input(\"Digite a nota do exame: \"))\n",
        "                if nota_exame >= 0 and nota_exame <= 10:\n",
        "                    media_exame = (media_semestral + nota_exame) / 2\n",
        "                    # Status de aprovação ou não do aluno após o exame\n",
        "                    if media_exame < 5:\n",
        "                        print(f\"Reprovado em exame com média {media_exame:.1f}\")\n",
        "                    else:\n",
        "                        print(f\"Aprovado em exame com média {media_exame:.1f}\")\n",
        "                else:\n",
        "                    print(f\"Nota de exame {nota_exame} inválida!\")\n",
        "        else:\n",
        "            print(f\"Nota 3: {nota3} - É inválida!\")\n",
        "    else:\n",
        "        print(f\"Nota 2: {nota2} - É inválida!\")\n",
        "else:\n",
        "    print (f\"Nota 1: {nota1} - É inválida!\")"
      ],
      "metadata": {
        "colab": {
          "base_uri": "https://localhost:8080/"
        },
        "id": "PETFRB7FTJQi",
        "outputId": "8f135c11-7809-4636-d578-021edc823f40"
      },
      "execution_count": 35,
      "outputs": [
        {
          "output_type": "stream",
          "name": "stdout",
          "text": [
            "Nota 1: 10\n",
            "Nota 2: 10\n",
            "Nota 3: 10\n",
            "A sua Média Semestral é 10.0\n",
            "Voce está Aprovado direto.\n"
          ]
        }
      ]
    },
    {
      "cell_type": "markdown",
      "source": [
        "##Vetor\n",
        "\n",
        "Em um vetor de inteiros de 10 posições fazer as seguintes rotinas:\n",
        "\n",
        "- Preencher o vetor\n",
        "- Exibir o conteúdo do vetor\n",
        "- Somar os elementos do vetor\n",
        "- Buscar um elemento no vetor"
      ],
      "metadata": {
        "id": "58bnrD5fU-iO"
      }
    },
    {
      "cell_type": "code",
      "source": [
        "vetor = [];\n",
        "\n",
        "# 1 - PREENCHER O VETOR\n",
        "for i in range(0, 10, 1):\n",
        "    print(f\"Digite a posição: vetor[{i}]= \")\n",
        "    elem = int(input())\n",
        "    vetor.append(elem)\n",
        "\n",
        "# 2 - EXIBIR O CONTEÚDO DO VETOR\n",
        "for i in range(0, 10, 1):\n",
        "    print(f\"vetor[{i}]= {vetor[i]}\")\n",
        "\n",
        "# 3 - SOMAR OS ELEMENTOS DO VETOR\n",
        "soma = 0\n",
        "for i in range(0, 10, 1):\n",
        "    soma += vetor[i];\n",
        "\n",
        "print (f\"Somatória do vetor = {soma}\")\n",
        "\n",
        "# 4 - BUSCAR UM ELEMENTO NO VETOR\n",
        "achou = False\n",
        "\n",
        "# Digitação do elemento que será procurado\n",
        "elem = int(input(\"Digite o elemento:\"))\n",
        "for i in range(0, 10, 1):\n",
        "    # Caso encontre o elemento, interrompe a busca\n",
        "    if vetor[i] == elem:\n",
        "        achou = True\n",
        "        break\n",
        "\n",
        "# Analisa se encontrou ou não o elemento\n",
        "if (achou):\n",
        "    print(f\"Elemento {elem} encontrado no vetor\")\n",
        "else:\n",
        "    print(f\"Elemento {elem} NÃO  foi encontrado no vetor\")"
      ],
      "metadata": {
        "colab": {
          "base_uri": "https://localhost:8080/"
        },
        "id": "GL0cZ2zlTmHv",
        "outputId": "651f13ef-f18c-4c52-c75f-f97b81b8df38"
      },
      "execution_count": 38,
      "outputs": [
        {
          "output_type": "stream",
          "name": "stdout",
          "text": [
            "Digite a posição: vetor[0]= \n",
            "5\n",
            "Digite a posição: vetor[1]= \n",
            "4\n",
            "Digite a posição: vetor[2]= \n",
            "5\n",
            "Digite a posição: vetor[3]= \n",
            "2\n",
            "Digite a posição: vetor[4]= \n",
            "5\n",
            "Digite a posição: vetor[5]= \n",
            "4\n",
            "Digite a posição: vetor[6]= \n",
            "30\n",
            "Digite a posição: vetor[7]= \n",
            "40\n",
            "Digite a posição: vetor[8]= \n",
            "8\n",
            "Digite a posição: vetor[9]= \n",
            "9\n",
            "vetor[0]= 5\n",
            "vetor[1]= 4\n",
            "vetor[2]= 5\n",
            "vetor[3]= 2\n",
            "vetor[4]= 5\n",
            "vetor[5]= 4\n",
            "vetor[6]= 30\n",
            "vetor[7]= 40\n",
            "vetor[8]= 8\n",
            "vetor[9]= 9\n",
            "Somatória do vetor = 112\n",
            "Digite o elemento:5\n",
            "Elemento 5 encontrado no vetor\n"
          ]
        }
      ]
    }
  ]
}